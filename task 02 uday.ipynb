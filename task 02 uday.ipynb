{
 "cells": [
  {
   "cell_type": "code",
   "execution_count": 1,
   "id": "2c2cb6ef-9c8f-46ce-b203-9193ba779305",
   "metadata": {},
   "outputs": [],
   "source": [
    "import pandas as pd\n",
    "import numpy as np\n",
    "import matplotlib.pyplot as plt\n",
    "import seaborn as sns\n",
    "import plotly.express as px"
   ]
  },
  {
   "cell_type": "code",
   "execution_count": 2,
   "id": "6927988c-d0e0-4253-9411-07965ce743e9",
   "metadata": {},
   "outputs": [],
   "source": [
    "sns.set(style=\"whitegrid\")"
   ]
  },
  {
   "cell_type": "code",
   "execution_count": 5,
   "id": "c939779d-34e2-4ecd-8dd4-32090b375b50",
   "metadata": {},
   "outputs": [
    {
     "data": {
      "text/html": [
       "<div>\n",
       "<style scoped>\n",
       "    .dataframe tbody tr th:only-of-type {\n",
       "        vertical-align: middle;\n",
       "    }\n",
       "\n",
       "    .dataframe tbody tr th {\n",
       "        vertical-align: top;\n",
       "    }\n",
       "\n",
       "    .dataframe thead th {\n",
       "        text-align: right;\n",
       "    }\n",
       "</style>\n",
       "<table border=\"1\" class=\"dataframe\">\n",
       "  <thead>\n",
       "    <tr style=\"text-align: right;\">\n",
       "      <th></th>\n",
       "      <th>_id</th>\n",
       "      <th>bestsellers_date</th>\n",
       "      <th>published_date</th>\n",
       "      <th>amazon_product_url</th>\n",
       "      <th>author</th>\n",
       "      <th>description</th>\n",
       "      <th>price</th>\n",
       "      <th>publisher</th>\n",
       "      <th>title</th>\n",
       "      <th>rank</th>\n",
       "      <th>rank_last_week</th>\n",
       "      <th>weeks_on_list</th>\n",
       "    </tr>\n",
       "  </thead>\n",
       "  <tbody>\n",
       "    <tr>\n",
       "      <th>0</th>\n",
       "      <td>{'$oid': '5b4aa4ead3089013507db18b'}</td>\n",
       "      <td>{'$date': {'$numberLong': '1211587200000'}}</td>\n",
       "      <td>{'$date': {'$numberLong': '1212883200000'}}</td>\n",
       "      <td>http://www.amazon.com/Odd-Hours-Dean-Koontz/dp...</td>\n",
       "      <td>Dean R Koontz</td>\n",
       "      <td>Odd Thomas, who can communicate with the dead,...</td>\n",
       "      <td>{'$numberInt': '27'}</td>\n",
       "      <td>Bantam</td>\n",
       "      <td>ODD HOURS</td>\n",
       "      <td>{'$numberInt': '1'}</td>\n",
       "      <td>{'$numberInt': '0'}</td>\n",
       "      <td>{'$numberInt': '1'}</td>\n",
       "    </tr>\n",
       "    <tr>\n",
       "      <th>1</th>\n",
       "      <td>{'$oid': '5b4aa4ead3089013507db18c'}</td>\n",
       "      <td>{'$date': {'$numberLong': '1211587200000'}}</td>\n",
       "      <td>{'$date': {'$numberLong': '1212883200000'}}</td>\n",
       "      <td>http://www.amazon.com/The-Host-Novel-Stephenie...</td>\n",
       "      <td>Stephenie Meyer</td>\n",
       "      <td>Aliens have taken control of the minds and bod...</td>\n",
       "      <td>{'$numberDouble': '25.99'}</td>\n",
       "      <td>Little, Brown</td>\n",
       "      <td>THE HOST</td>\n",
       "      <td>{'$numberInt': '2'}</td>\n",
       "      <td>{'$numberInt': '1'}</td>\n",
       "      <td>{'$numberInt': '3'}</td>\n",
       "    </tr>\n",
       "    <tr>\n",
       "      <th>2</th>\n",
       "      <td>{'$oid': '5b4aa4ead3089013507db18d'}</td>\n",
       "      <td>{'$date': {'$numberLong': '1211587200000'}}</td>\n",
       "      <td>{'$date': {'$numberLong': '1212883200000'}}</td>\n",
       "      <td>http://www.amazon.com/Love-Youre-With-Emily-Gi...</td>\n",
       "      <td>Emily Giffin</td>\n",
       "      <td>A woman's happy marriage is shaken when she en...</td>\n",
       "      <td>{'$numberDouble': '24.95'}</td>\n",
       "      <td>St. Martin's</td>\n",
       "      <td>LOVE THE ONE YOU'RE WITH</td>\n",
       "      <td>{'$numberInt': '3'}</td>\n",
       "      <td>{'$numberInt': '2'}</td>\n",
       "      <td>{'$numberInt': '2'}</td>\n",
       "    </tr>\n",
       "    <tr>\n",
       "      <th>3</th>\n",
       "      <td>{'$oid': '5b4aa4ead3089013507db18e'}</td>\n",
       "      <td>{'$date': {'$numberLong': '1211587200000'}}</td>\n",
       "      <td>{'$date': {'$numberLong': '1212883200000'}}</td>\n",
       "      <td>http://www.amazon.com/The-Front-Garano-Patrici...</td>\n",
       "      <td>Patricia Cornwell</td>\n",
       "      <td>A Massachusetts state investigator and his tea...</td>\n",
       "      <td>{'$numberDouble': '22.95'}</td>\n",
       "      <td>Putnam</td>\n",
       "      <td>THE FRONT</td>\n",
       "      <td>{'$numberInt': '4'}</td>\n",
       "      <td>{'$numberInt': '0'}</td>\n",
       "      <td>{'$numberInt': '1'}</td>\n",
       "    </tr>\n",
       "    <tr>\n",
       "      <th>4</th>\n",
       "      <td>{'$oid': '5b4aa4ead3089013507db18f'}</td>\n",
       "      <td>{'$date': {'$numberLong': '1211587200000'}}</td>\n",
       "      <td>{'$date': {'$numberLong': '1212883200000'}}</td>\n",
       "      <td>http://www.amazon.com/Snuff-Chuck-Palahniuk/dp...</td>\n",
       "      <td>Chuck Palahniuk</td>\n",
       "      <td>An aging porn queens aims to cap her career by...</td>\n",
       "      <td>{'$numberDouble': '24.95'}</td>\n",
       "      <td>Doubleday</td>\n",
       "      <td>SNUFF</td>\n",
       "      <td>{'$numberInt': '5'}</td>\n",
       "      <td>{'$numberInt': '0'}</td>\n",
       "      <td>{'$numberInt': '1'}</td>\n",
       "    </tr>\n",
       "  </tbody>\n",
       "</table>\n",
       "</div>"
      ],
      "text/plain": [
       "                                    _id  \\\n",
       "0  {'$oid': '5b4aa4ead3089013507db18b'}   \n",
       "1  {'$oid': '5b4aa4ead3089013507db18c'}   \n",
       "2  {'$oid': '5b4aa4ead3089013507db18d'}   \n",
       "3  {'$oid': '5b4aa4ead3089013507db18e'}   \n",
       "4  {'$oid': '5b4aa4ead3089013507db18f'}   \n",
       "\n",
       "                              bestsellers_date  \\\n",
       "0  {'$date': {'$numberLong': '1211587200000'}}   \n",
       "1  {'$date': {'$numberLong': '1211587200000'}}   \n",
       "2  {'$date': {'$numberLong': '1211587200000'}}   \n",
       "3  {'$date': {'$numberLong': '1211587200000'}}   \n",
       "4  {'$date': {'$numberLong': '1211587200000'}}   \n",
       "\n",
       "                                published_date  \\\n",
       "0  {'$date': {'$numberLong': '1212883200000'}}   \n",
       "1  {'$date': {'$numberLong': '1212883200000'}}   \n",
       "2  {'$date': {'$numberLong': '1212883200000'}}   \n",
       "3  {'$date': {'$numberLong': '1212883200000'}}   \n",
       "4  {'$date': {'$numberLong': '1212883200000'}}   \n",
       "\n",
       "                                  amazon_product_url             author  \\\n",
       "0  http://www.amazon.com/Odd-Hours-Dean-Koontz/dp...      Dean R Koontz   \n",
       "1  http://www.amazon.com/The-Host-Novel-Stephenie...    Stephenie Meyer   \n",
       "2  http://www.amazon.com/Love-Youre-With-Emily-Gi...       Emily Giffin   \n",
       "3  http://www.amazon.com/The-Front-Garano-Patrici...  Patricia Cornwell   \n",
       "4  http://www.amazon.com/Snuff-Chuck-Palahniuk/dp...    Chuck Palahniuk   \n",
       "\n",
       "                                         description  \\\n",
       "0  Odd Thomas, who can communicate with the dead,...   \n",
       "1  Aliens have taken control of the minds and bod...   \n",
       "2  A woman's happy marriage is shaken when she en...   \n",
       "3  A Massachusetts state investigator and his tea...   \n",
       "4  An aging porn queens aims to cap her career by...   \n",
       "\n",
       "                        price      publisher                     title  \\\n",
       "0        {'$numberInt': '27'}         Bantam                 ODD HOURS   \n",
       "1  {'$numberDouble': '25.99'}  Little, Brown                  THE HOST   \n",
       "2  {'$numberDouble': '24.95'}   St. Martin's  LOVE THE ONE YOU'RE WITH   \n",
       "3  {'$numberDouble': '22.95'}         Putnam                 THE FRONT   \n",
       "4  {'$numberDouble': '24.95'}      Doubleday                     SNUFF   \n",
       "\n",
       "                  rank       rank_last_week        weeks_on_list  \n",
       "0  {'$numberInt': '1'}  {'$numberInt': '0'}  {'$numberInt': '1'}  \n",
       "1  {'$numberInt': '2'}  {'$numberInt': '1'}  {'$numberInt': '3'}  \n",
       "2  {'$numberInt': '3'}  {'$numberInt': '2'}  {'$numberInt': '2'}  \n",
       "3  {'$numberInt': '4'}  {'$numberInt': '0'}  {'$numberInt': '1'}  \n",
       "4  {'$numberInt': '5'}  {'$numberInt': '0'}  {'$numberInt': '1'}  "
      ]
     },
     "execution_count": 5,
     "metadata": {},
     "output_type": "execute_result"
    }
   ],
   "source": [
    "import pandas as pd\n",
    "\n",
    "df = pd.read_json(\"C:/Users/hp5cd/Downloads/nyt2.json\", lines=True)\n",
    "df.head()\n"
   ]
  },
  {
   "cell_type": "code",
   "execution_count": 6,
   "id": "45849497-a915-46bb-b136-ab74fbcc54e7",
   "metadata": {},
   "outputs": [
    {
     "name": "stdout",
     "output_type": "stream",
     "text": [
      "Shape: (10195, 12)\n",
      "\n",
      "Info:\n",
      "<class 'pandas.core.frame.DataFrame'>\n",
      "RangeIndex: 10195 entries, 0 to 10194\n",
      "Data columns (total 12 columns):\n",
      " #   Column              Non-Null Count  Dtype \n",
      "---  ------              --------------  ----- \n",
      " 0   _id                 10195 non-null  object\n",
      " 1   bestsellers_date    10195 non-null  object\n",
      " 2   published_date      10195 non-null  object\n",
      " 3   amazon_product_url  10195 non-null  object\n",
      " 4   author              10195 non-null  object\n",
      " 5   description         10195 non-null  object\n",
      " 6   price               10195 non-null  object\n",
      " 7   publisher           10195 non-null  object\n",
      " 8   title               10195 non-null  object\n",
      " 9   rank                10195 non-null  object\n",
      " 10  rank_last_week      10195 non-null  object\n",
      " 11  weeks_on_list       10195 non-null  object\n",
      "dtypes: object(12)\n",
      "memory usage: 955.9+ KB\n"
     ]
    }
   ],
   "source": [
    "print(\"Shape:\", df.shape)\n",
    "print(\"\\nInfo:\")\n",
    "df.info()"
   ]
  },
  {
   "cell_type": "code",
   "execution_count": 7,
   "id": "782484e4-0e67-4605-a631-4a75b79b4ff9",
   "metadata": {},
   "outputs": [
    {
     "name": "stdout",
     "output_type": "stream",
     "text": [
      "\n",
      "Missing Values:\n",
      " _id                   0\n",
      "bestsellers_date      0\n",
      "published_date        0\n",
      "amazon_product_url    0\n",
      "author                0\n",
      "description           0\n",
      "price                 0\n",
      "publisher             0\n",
      "title                 0\n",
      "rank                  0\n",
      "rank_last_week        0\n",
      "weeks_on_list         0\n",
      "dtype: int64\n"
     ]
    }
   ],
   "source": [
    "print(\"\\nMissing Values:\\n\", df.isnull().sum())"
   ]
  },
  {
   "cell_type": "code",
   "execution_count": 10,
   "id": "f9253a0e-afb6-432f-8af5-995d871189af",
   "metadata": {},
   "outputs": [
    {
     "data": {
      "text/html": [
       "<div>\n",
       "<style scoped>\n",
       "    .dataframe tbody tr th:only-of-type {\n",
       "        vertical-align: middle;\n",
       "    }\n",
       "\n",
       "    .dataframe tbody tr th {\n",
       "        vertical-align: top;\n",
       "    }\n",
       "\n",
       "    .dataframe thead th {\n",
       "        text-align: right;\n",
       "    }\n",
       "</style>\n",
       "<table border=\"1\" class=\"dataframe\">\n",
       "  <thead>\n",
       "    <tr style=\"text-align: right;\">\n",
       "      <th></th>\n",
       "      <th>_id</th>\n",
       "      <th>bestsellers_date</th>\n",
       "      <th>published_date</th>\n",
       "      <th>amazon_product_url</th>\n",
       "      <th>author</th>\n",
       "      <th>description</th>\n",
       "      <th>price</th>\n",
       "      <th>publisher</th>\n",
       "      <th>title</th>\n",
       "      <th>rank</th>\n",
       "      <th>rank_last_week</th>\n",
       "      <th>weeks_on_list</th>\n",
       "    </tr>\n",
       "  </thead>\n",
       "  <tbody>\n",
       "    <tr>\n",
       "      <th>count</th>\n",
       "      <td>10195</td>\n",
       "      <td>10195</td>\n",
       "      <td>10195</td>\n",
       "      <td>10195</td>\n",
       "      <td>10195</td>\n",
       "      <td>10195</td>\n",
       "      <td>10195</td>\n",
       "      <td>10195</td>\n",
       "      <td>10195</td>\n",
       "      <td>10195</td>\n",
       "      <td>10195</td>\n",
       "      <td>10195</td>\n",
       "    </tr>\n",
       "    <tr>\n",
       "      <th>unique</th>\n",
       "      <td>10195</td>\n",
       "      <td>529</td>\n",
       "      <td>529</td>\n",
       "      <td>2329</td>\n",
       "      <td>738</td>\n",
       "      <td>2972</td>\n",
       "      <td>38</td>\n",
       "      <td>176</td>\n",
       "      <td>2300</td>\n",
       "      <td>20</td>\n",
       "      <td>17</td>\n",
       "      <td>135</td>\n",
       "    </tr>\n",
       "    <tr>\n",
       "      <th>top</th>\n",
       "      <td>{'$oid': '5b4aa4ead3089013507dd95d'}</td>\n",
       "      <td>{'$date': {'$numberLong': '1484352000000'}}</td>\n",
       "      <td>{'$date': {'$numberLong': '1485648000000'}}</td>\n",
       "      <td>http://www.amazon.com/All-Light-We-Cannot-See/...</td>\n",
       "      <td>John Grisham</td>\n",
       "      <td></td>\n",
       "      <td>{'$numberInt': '0'}</td>\n",
       "      <td>Putnam</td>\n",
       "      <td>ALL THE LIGHT WE CANNOT SEE</td>\n",
       "      <td>{'$numberInt': '1'}</td>\n",
       "      <td>{'$numberInt': '0'}</td>\n",
       "      <td>{'$numberInt': '1'}</td>\n",
       "    </tr>\n",
       "    <tr>\n",
       "      <th>freq</th>\n",
       "      <td>1</td>\n",
       "      <td>20</td>\n",
       "      <td>20</td>\n",
       "      <td>141</td>\n",
       "      <td>226</td>\n",
       "      <td>246</td>\n",
       "      <td>6184</td>\n",
       "      <td>1061</td>\n",
       "      <td>141</td>\n",
       "      <td>529</td>\n",
       "      <td>4174</td>\n",
       "      <td>2032</td>\n",
       "    </tr>\n",
       "  </tbody>\n",
       "</table>\n",
       "</div>"
      ],
      "text/plain": [
       "                                         _id  \\\n",
       "count                                  10195   \n",
       "unique                                 10195   \n",
       "top     {'$oid': '5b4aa4ead3089013507dd95d'}   \n",
       "freq                                       1   \n",
       "\n",
       "                                   bestsellers_date  \\\n",
       "count                                         10195   \n",
       "unique                                          529   \n",
       "top     {'$date': {'$numberLong': '1484352000000'}}   \n",
       "freq                                             20   \n",
       "\n",
       "                                     published_date  \\\n",
       "count                                         10195   \n",
       "unique                                          529   \n",
       "top     {'$date': {'$numberLong': '1485648000000'}}   \n",
       "freq                                             20   \n",
       "\n",
       "                                       amazon_product_url        author  \\\n",
       "count                                               10195         10195   \n",
       "unique                                               2329           738   \n",
       "top     http://www.amazon.com/All-Light-We-Cannot-See/...  John Grisham   \n",
       "freq                                                  141           226   \n",
       "\n",
       "       description                price publisher  \\\n",
       "count        10195                10195     10195   \n",
       "unique        2972                   38       176   \n",
       "top                 {'$numberInt': '0'}    Putnam   \n",
       "freq           246                 6184      1061   \n",
       "\n",
       "                              title                 rank       rank_last_week  \\\n",
       "count                         10195                10195                10195   \n",
       "unique                         2300                   20                   17   \n",
       "top     ALL THE LIGHT WE CANNOT SEE  {'$numberInt': '1'}  {'$numberInt': '0'}   \n",
       "freq                            141                  529                 4174   \n",
       "\n",
       "              weeks_on_list  \n",
       "count                 10195  \n",
       "unique                  135  \n",
       "top     {'$numberInt': '1'}  \n",
       "freq                   2032  "
      ]
     },
     "execution_count": 10,
     "metadata": {},
     "output_type": "execute_result"
    }
   ],
   "source": [
    "df.describe(include='all')\n"
   ]
  },
  {
   "cell_type": "code",
   "execution_count": 14,
   "id": "b15b0d25-3346-499d-a342-5837d362dfb2",
   "metadata": {},
   "outputs": [],
   "source": [
    "def extract_date(val):\n",
    "    if isinstance(val, dict) and '$date' in val:\n",
    "        date_val = val['$date']\n",
    "        \n",
    "        if isinstance(date_val, (int, float)):\n",
    "            return pd.to_datetime(date_val, unit='ms')\n",
    "        elif isinstance(date_val, str):\n",
    "    \n",
    "            if date_val.isdigit():\n",
    "               \n",
    "                return pd.to_datetime(int(date_val), unit='ms')\n",
    "            else:\n",
    "              \n",
    "                return pd.to_datetime(date_val)\n",
    "        else:\n",
    "        \n",
    "            return pd.to_datetime(date_val)\n",
    "    else:\n",
    "    \n",
    "        return pd.to_datetime(val)\n"
   ]
  },
  {
   "cell_type": "code",
   "execution_count": 15,
   "id": "aa268f5f-e8ec-4c18-8d83-efcd761e4bb6",
   "metadata": {},
   "outputs": [
    {
     "data": {
      "image/png": "[encoded data removed]",
      "text/plain": [
       "<Figure size 800x500 with 1 Axes>"
      ]
     },
     "metadata": {},
     "output_type": "display_data"
    }
   ],
   "source": [
    "import matplotlib.pyplot as plt\n",
    "import seaborn as sns\n",
    "\n",
    "\n",
    "prices = pd.to_numeric(df['price'], errors='coerce').dropna()\n",
    "\n",
    "plt.figure(figsize=(8,5))\n",
    "sns.histplot(prices, kde=True, bins=20)\n",
    "plt.title('Distribution of Book Prices')\n",
    "plt.xlabel('Price ($)')\n",
    "plt.ylabel('Count')\n",
    "plt.show()\n"
   ]
  },
  {
   "cell_type": "code",
   "execution_count": 24,
   "id": "450c5616-9605-4e31-8f28-e6741101fdf1",
   "metadata": {},
   "outputs": [
    {
     "data": {
      "image/png": "[encoded data removed]",
      "text/plain": [
       "<Figure size 600x400 with 1 Axes>"
      ]
     },
     "metadata": {},
     "output_type": "display_data"
    }
   ],
   "source": [
    "def extract_price(val):\n",
    "    if isinstance(val, dict):\n",
    "        try:\n",
    "            return float(list(val.values())[0])\n",
    "        except:\n",
    "            return None\n",
    "    try:\n",
    "        return float(val)\n",
    "    except:\n",
    "        return None\n",
    "\n",
    "df['price'] = df['price'].apply(extract_price)\n",
    "df = df[df['price'].notnull()]  # drop rows with NaN price\n",
    "\n",
    "plt.figure(figsize=(6,4))\n",
    "sns.boxplot(x=df['price'])\n",
    "plt.title('Boxplot of Book Prices')\n",
    "plt.show()"
   ]
  },
  {
   "cell_type": "code",
   "execution_count": 20,
   "id": "dc4026ed-d64f-44bc-ac2d-62d51d7e2a41",
   "metadata": {},
   "outputs": [
    {
     "data": {
      "image/png": "[encoded data removed]",
      "text/plain": [
       "<Figure size 1000x600 with 1 Axes>"
      ]
     },
     "metadata": {},
     "output_type": "display_data"
    }
   ],
   "source": [
    "plt.figure(figsize=(10,6))\n",
    "sns.countplot(y=df['publisher'], order=df['publisher'].value_counts().index[:10])\n",
    "plt.title('Top 10 Publishers by Count')\n",
    "plt.xlabel('Number of Books')\n",
    "plt.ylabel('Publisher')\n",
    "plt.show()"
   ]
  },
  {
   "cell_type": "code",
   "execution_count": 26,
   "id": "223cbd8f-67bf-479e-9d7f-582975be928a",
   "metadata": {},
   "outputs": [
    {
     "data": {
      "image/png": "[encoded data removed]",
      "text/plain": [
       "<Figure size 600x500 with 2 Axes>"
      ]
     },
     "metadata": {},
     "output_type": "display_data"
    }
   ],
   "source": [
    "import pandas as pd\n",
    "import seaborn as sns\n",
    "import matplotlib.pyplot as plt\n",
    "\n",
    "cols = ['price', 'rank', 'rank_last_week', 'weeks_on_list']\n",
    "existing_cols = [col for col in cols if col in df.columns]\n",
    "df[existing_cols] = df[existing_cols].apply(pd.to_numeric, errors='coerce')\n",
    "df_clean = df.dropna(subset=existing_cols, how='all')\n",
    "corr = df_clean[existing_cols].corr()\n",
    "if not corr.isnull().all().all():\n",
    "    plt.figure(figsize=(6, 5))\n",
    "    sns.heatmap(corr, annot=True, cmap='coolwarm', vmin=-1, vmax=1)\n",
    "    plt.title('Correlation Matrix')\n",
    "    plt.show()\n",
    "else:\n",
    "    print(\"Correlation matrix could not be computed — all values are NaN.\")\n"
   ]
  },
  {
   "cell_type": "code",
   "execution_count": 27,
   "id": "7549f563-5ae8-4a2f-baf2-375d6695aebf",
   "metadata": {},
   "outputs": [
    {
     "name": "stdout",
     "output_type": "stream",
     "text": [
      "Data is empty after cleaning. Pairplot cannot be generated.\n"
     ]
    }
   ],
   "source": [
    "import pandas as pd\n",
    "import seaborn as sns\n",
    "import matplotlib.pyplot as plt\n",
    "cols = ['price', 'rank', 'rank_last_week', 'weeks_on_list']\n",
    "existing_cols = [col for col in cols if col in df.columns]\n",
    "df_clean = df[existing_cols].apply(pd.to_numeric, errors='coerce')\n",
    "df_clean = df_clean.dropna(how='all')\n",
    "df_clean = df_clean.dropna()\n",
    "if not df_clean.empty:\n",
    "    sns.pairplot(df_clean)\n",
    "    plt.suptitle(\"Pairplot of Numerical Features\", y=1.02)\n",
    "    plt.show()\n",
    "else:\n",
    "    print(\"Data is empty after cleaning. Pairplot cannot be generated.\")\n"
   ]
  },
  {
   "cell_type": "code",
   "execution_count": 28,
   "id": "7ab29adc-86fa-4f6d-b8f0-05d6c2f7acb9",
   "metadata": {},
   "outputs": [
    {
     "name": "stdout",
     "output_type": "stream",
     "text": [
      "👉 Most expensive book:\n",
      "Empty DataFrame\n",
      "Columns: [title, author, price]\n",
      "Index: []\n",
      "\n",
      "👉 Books on list for more than 5 weeks:\n",
      "Empty DataFrame\n",
      "Columns: [title, weeks_on_list]\n",
      "Index: []\n"
     ]
    }
   ],
   "source": [
    "\n",
    "df['price'] = pd.to_numeric(df['price'], errors='coerce')\n",
    "df['weeks_on_list'] = pd.to_numeric(df['weeks_on_list'], errors='coerce')\n",
    "\n",
    "df = df.dropna(subset=['price', 'weeks_on_list'])\n",
    "\n",
    "print(\"👉 Most expensive book:\")\n",
    "most_expensive = df[df['price'] == df['price'].max()][['title', 'author', 'price']]\n",
    "print(most_expensive.to_string(index=False))\n",
    "\n",
    "print(\"\\n👉 Books on list for more than 5 weeks:\")\n",
    "long_listed = df[df['weeks_on_list'] > 5][['title', 'weeks_on_list']]\n",
    "print(long_listed.to_string(index=False))\n"
   ]
  },
  {
   "cell_type": "code",
   "execution_count": null,
   "id": "6d6094a4-6e8c-426a-a3da-cfb076f6e3cc",
   "metadata": {},
   "outputs": [],
   "source": []
  }
 ],
 "metadata": {
  "kernelspec": {
   "display_name": "Python 3 (ipykernel)",
   "language": "python",
   "name": "python3"
  },
  "language_info": {
   "codemirror_mode": {
    "name": "ipython",
    "version": 3
   },
   "file_extension": ".py",
   "mimetype": "text/x-python",
   "name": "python",
   "nbconvert_exporter": "python",
   "pygments_lexer": "ipython3",
   "version": "3.12.4"
  }
 },
 "nbformat": 4,
 "nbformat_minor": 5
}
